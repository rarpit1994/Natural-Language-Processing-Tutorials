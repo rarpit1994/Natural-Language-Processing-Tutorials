{
  "nbformat": 4,
  "nbformat_minor": 0,
  "metadata": {
    "colab": {
      "name": "Antonyms and Synonym using NLTK.ipynb",
      "provenance": [],
      "authorship_tag": "ABX9TyOjkOX0oj2YW27rqT6O9nHG"
    },
    "kernelspec": {
      "name": "python3",
      "display_name": "Python 3"
    }
  },
  "cells": [
    {
      "cell_type": "code",
      "metadata": {
        "id": "kkPBNm0Tz1iU",
        "outputId": "7bb6b98f-7503-40b5-ec92-0de95a921078",
        "colab": {
          "base_uri": "https://localhost:8080/"
        }
      },
      "source": [
        "import nltk\n",
        "from nltk.corpus import wordnet\n",
        "nltk.download('wordnet')"
      ],
      "execution_count": 4,
      "outputs": [
        {
          "output_type": "stream",
          "text": [
            "[nltk_data] Downloading package wordnet to /root/nltk_data...\n",
            "[nltk_data]   Unzipping corpora/wordnet.zip.\n"
          ],
          "name": "stdout"
        },
        {
          "output_type": "execute_result",
          "data": {
            "text/plain": [
              "True"
            ]
          },
          "metadata": {
            "tags": []
          },
          "execution_count": 4
        }
      ]
    },
    {
      "cell_type": "code",
      "metadata": {
        "id": "9ZQkvezx0kqx"
      },
      "source": [
        "synonyms = []\n",
        "antonyms = []"
      ],
      "execution_count": 9,
      "outputs": []
    },
    {
      "cell_type": "code",
      "metadata": {
        "id": "A3rds4aK0psD"
      },
      "source": [
        "for syn in wordnet.synsets(\"good\"):\n",
        "  for s in syn.lemmas():\n",
        "    synonyms.append(s.name())\n",
        "    for a in s.antonyms():\n",
        "      antonyms.append(a.name())"
      ],
      "execution_count": 10,
      "outputs": []
    },
    {
      "cell_type": "code",
      "metadata": {
        "id": "cSFCn6Jg0xzW",
        "outputId": "4580591d-081e-4d4d-d9f6-7c5255ffb5d2",
        "colab": {
          "base_uri": "https://localhost:8080/"
        }
      },
      "source": [
        "print(set(synonyms))\n",
        "print(\"---------------------------------------\")\n",
        "print(set(antonyms))"
      ],
      "execution_count": 13,
      "outputs": [
        {
          "output_type": "stream",
          "text": [
            "{'upright', 'expert', 'practiced', 'proficient', 'good', 'dependable', 'secure', 'goodness', 'adept', 'safe', 'salutary', 'in_force', 'beneficial', 'unspoiled', 'in_effect', 'thoroughly', 'trade_good', 'estimable', 'full', 'unspoilt', 'respectable', 'honest', 'soundly', 'near', 'undecomposed', 'sound', 'skillful', 'dear', 'commodity', 'just', 'well', 'honorable', 'ripe', 'right', 'skilful', 'serious', 'effective'}\n",
            "---------------------------------------\n",
            "{'evil', 'badness', 'ill', 'evilness', 'bad'}\n"
          ],
          "name": "stdout"
        }
      ]
    },
    {
      "cell_type": "code",
      "metadata": {
        "id": "8zgGn1UO1HIz"
      },
      "source": [
        ""
      ],
      "execution_count": null,
      "outputs": []
    }
  ]
}