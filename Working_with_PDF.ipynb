{
  "nbformat": 4,
  "nbformat_minor": 0,
  "metadata": {
    "colab": {
      "name": "Working with PDF.ipynb",
      "provenance": []
    },
    "kernelspec": {
      "name": "python3",
      "display_name": "Python 3"
    }
  },
  "cells": [
    {
      "cell_type": "code",
      "metadata": {
        "id": "nN0-jxt4a72m",
        "outputId": "0ae511a2-f2f0-4872-9471-93ec581a5712",
        "colab": {
          "base_uri": "https://localhost:8080/"
        }
      },
      "source": [
        "from google.colab import drive\n",
        "drive.mount('/content/drive', force_remount=True)"
      ],
      "execution_count": 1,
      "outputs": [
        {
          "output_type": "stream",
          "text": [
            "Mounted at /content/drive\n"
          ],
          "name": "stdout"
        }
      ]
    },
    {
      "cell_type": "code",
      "metadata": {
        "id": "YN5-_EFY1IOO",
        "outputId": "71b0edfa-d06d-48fa-b0f9-1ea04c696aa1",
        "colab": {
          "base_uri": "https://localhost:8080/"
        }
      },
      "source": [
        "!pip install PyPDF2"
      ],
      "execution_count": 2,
      "outputs": [
        {
          "output_type": "stream",
          "text": [
            "Collecting PyPDF2\n",
            "\u001b[?25l  Downloading https://files.pythonhosted.org/packages/b4/01/68fcc0d43daf4c6bdbc6b33cc3f77bda531c86b174cac56ef0ffdb96faab/PyPDF2-1.26.0.tar.gz (77kB)\n",
            "\r\u001b[K     |████▎                           | 10kB 16.0MB/s eta 0:00:01\r\u001b[K     |████████▌                       | 20kB 2.2MB/s eta 0:00:01\r\u001b[K     |████████████▊                   | 30kB 2.7MB/s eta 0:00:01\r\u001b[K     |█████████████████               | 40kB 3.1MB/s eta 0:00:01\r\u001b[K     |█████████████████████▏          | 51kB 2.5MB/s eta 0:00:01\r\u001b[K     |█████████████████████████▍      | 61kB 2.8MB/s eta 0:00:01\r\u001b[K     |█████████████████████████████▋  | 71kB 3.1MB/s eta 0:00:01\r\u001b[K     |████████████████████████████████| 81kB 2.5MB/s \n",
            "\u001b[?25hBuilding wheels for collected packages: PyPDF2\n",
            "  Building wheel for PyPDF2 (setup.py) ... \u001b[?25l\u001b[?25hdone\n",
            "  Created wheel for PyPDF2: filename=PyPDF2-1.26.0-cp36-none-any.whl size=61086 sha256=f03d6cb3cda832420c54f9407671a5085399e3986f386ab50d7df5479c8a2a6d\n",
            "  Stored in directory: /root/.cache/pip/wheels/53/84/19/35bc977c8bf5f0c23a8a011aa958acd4da4bbd7a229315c1b7\n",
            "Successfully built PyPDF2\n",
            "Installing collected packages: PyPDF2\n",
            "Successfully installed PyPDF2-1.26.0\n"
          ],
          "name": "stdout"
        }
      ]
    },
    {
      "cell_type": "code",
      "metadata": {
        "id": "06fbrjfI1Sol"
      },
      "source": [
        "import PyPDF2\n",
        "import os"
      ],
      "execution_count": 6,
      "outputs": []
    },
    {
      "cell_type": "code",
      "metadata": {
        "id": "bNDmRbvW1Vvc"
      },
      "source": [
        "#os.chdir(\"/content/drive/My Drive/nlp/US_Decl\")\n",
        "myfile = open('/content/drive/My Drive/nlp/US_Declaration.pdf', mode='rb')"
      ],
      "execution_count": 9,
      "outputs": []
    },
    {
      "cell_type": "code",
      "metadata": {
        "id": "HKwmt5zi1oFx"
      },
      "source": [
        "pdf_reader = PyPDF2.PdfFileReader(myfile)"
      ],
      "execution_count": 10,
      "outputs": []
    },
    {
      "cell_type": "code",
      "metadata": {
        "id": "ZBZdnF962olr",
        "outputId": "3512827b-f174-4405-f342-c60c4061e3bb",
        "colab": {
          "base_uri": "https://localhost:8080/"
        }
      },
      "source": [
        "pdf_reader.numPages"
      ],
      "execution_count": 11,
      "outputs": [
        {
          "output_type": "execute_result",
          "data": {
            "text/plain": [
              "5"
            ]
          },
          "metadata": {
            "tags": []
          },
          "execution_count": 11
        }
      ]
    },
    {
      "cell_type": "code",
      "metadata": {
        "id": "vjiC4Xs22suP"
      },
      "source": [
        "page_one = pdf_reader.getPage(0)"
      ],
      "execution_count": 12,
      "outputs": []
    },
    {
      "cell_type": "code",
      "metadata": {
        "id": "txWebNId2zpG"
      },
      "source": [
        "mytext = page_one.extractText()"
      ],
      "execution_count": 14,
      "outputs": []
    },
    {
      "cell_type": "code",
      "metadata": {
        "id": "I2wj8Myb22nd"
      },
      "source": [
        "myfile.close()"
      ],
      "execution_count": 15,
      "outputs": []
    },
    {
      "cell_type": "code",
      "metadata": {
        "id": "6IQXEKDV3Ddg"
      },
      "source": [
        "f = open('/content/drive/My Drive/nlp/US_Declaration.pdf', mode='rb')"
      ],
      "execution_count": 16,
      "outputs": []
    },
    {
      "cell_type": "code",
      "metadata": {
        "id": "mfNITm3q3TQm"
      },
      "source": [
        "pdf_reader = PyPDF2.PdfFileReader(f)"
      ],
      "execution_count": 17,
      "outputs": []
    },
    {
      "cell_type": "code",
      "metadata": {
        "id": "3Uw3f3eY3XY-"
      },
      "source": [
        "first_page = pdf_reader.getPage(0)"
      ],
      "execution_count": 18,
      "outputs": []
    },
    {
      "cell_type": "code",
      "metadata": {
        "id": "f54Ditjp3arQ"
      },
      "source": [
        "pdf_writer = PyPDF2.PdfFileWriter()"
      ],
      "execution_count": 19,
      "outputs": []
    },
    {
      "cell_type": "code",
      "metadata": {
        "id": "_raG__-_3fBD"
      },
      "source": [
        "pdf_writer.addPage(first_page)"
      ],
      "execution_count": 20,
      "outputs": []
    },
    {
      "cell_type": "code",
      "metadata": {
        "id": "IAC2wLQw3iZH"
      },
      "source": [
        "pdf_output = open('/content/drive/My Drive/nlp/New_PDF.pdf','wb')"
      ],
      "execution_count": 21,
      "outputs": []
    },
    {
      "cell_type": "code",
      "metadata": {
        "id": "DG9InIz-3tou"
      },
      "source": [
        "pdf_writer.write(pdf_output)"
      ],
      "execution_count": 22,
      "outputs": []
    },
    {
      "cell_type": "code",
      "metadata": {
        "id": "l0a7QUfm30Y_"
      },
      "source": [
        "pdf_output.close()"
      ],
      "execution_count": 23,
      "outputs": []
    },
    {
      "cell_type": "code",
      "metadata": {
        "id": "XnyPRctv4GGL"
      },
      "source": [
        "f.close()"
      ],
      "execution_count": 24,
      "outputs": []
    },
    {
      "cell_type": "code",
      "metadata": {
        "id": "R6CeP3yN4HO8"
      },
      "source": [
        "brand_new = open('/content/drive/My Drive/nlp/New_PDF.pdf', mode='rb')\n",
        "pdf_reader = PyPDF2.PdfFileReader(brand_new)"
      ],
      "execution_count": 25,
      "outputs": []
    },
    {
      "cell_type": "code",
      "metadata": {
        "id": "iWNAdI8P4X6-",
        "outputId": "e003fa44-31cf-4ad9-8347-1ef623cd143f",
        "colab": {
          "base_uri": "https://localhost:8080/"
        }
      },
      "source": [
        "pdf_reader.numPages"
      ],
      "execution_count": 27,
      "outputs": [
        {
          "output_type": "execute_result",
          "data": {
            "text/plain": [
              "1"
            ]
          },
          "metadata": {
            "tags": []
          },
          "execution_count": 27
        }
      ]
    },
    {
      "cell_type": "code",
      "metadata": {
        "id": "4Me2JwCD4bQm"
      },
      "source": [
        "f = open('/content/drive/My Drive/nlp/US_Declaration.pdf', mode='rb')\n",
        "pdf_text = []\n",
        "pdf_reader = PyPDF2.PdfFileReader(f)\n",
        "\n",
        "for p in range(pdf_reader.numPages):\n",
        "  page = pdf_reader.getPage(p)\n",
        "  pdf_text.append(page.extractText())\n",
        "f.close()"
      ],
      "execution_count": 31,
      "outputs": []
    },
    {
      "cell_type": "code",
      "metadata": {
        "id": "R32nh1AS9dqF",
        "outputId": "14ca9010-ff7e-4816-dc9f-de304489a24b",
        "colab": {
          "base_uri": "https://localhost:8080/"
        }
      },
      "source": [
        "len(pdf_text)"
      ],
      "execution_count": 32,
      "outputs": [
        {
          "output_type": "execute_result",
          "data": {
            "text/plain": [
              "5"
            ]
          },
          "metadata": {
            "tags": []
          },
          "execution_count": 32
        }
      ]
    },
    {
      "cell_type": "code",
      "metadata": {
        "id": "YK3JCmqg9g-7",
        "outputId": "53df5c05-a0ee-4e29-85e5-e62adc84c150",
        "colab": {
          "base_uri": "https://localhost:8080/"
        }
      },
      "source": [
        "for page in pdf_text:\n",
        "  print(page)\n",
        "  print('\\n')\n",
        "  print('\\n')\n",
        "  print('\\n')\n",
        "  print('\\n')\n",
        "  print('\\n')"
      ],
      "execution_count": 33,
      "outputs": [
        {
          "output_type": "stream",
          "text": [
            "Declaration of IndependenceIN CONGRESS, July 4, 1776. The unanimous Declaration of the thirteen united States of America, When in the Course of human events, it becomes necessary for one people to dissolve the\n",
            "political bands which have connected them with another, and to assume among the powers of the\n",
            "earth, the separate and equal station to which the Laws of Nature and of Nature's God entitle\n",
            "\n",
            "them, a decent respect to the opinions of mankind requires that they should declare the causes\n",
            "\n",
            "which impel them to the separation. \n",
            "We hold these truths to be self-evident, that all men are created equal, that they are endowed by\n",
            "\n",
            "their Creator with certain unalienable Rights, that among these are Life, Liberty and the pursuit\n",
            "of Happiness.ŠThat to secure these rights, Governments are instituted among Men, deriving\n",
            "\n",
            "their just powers from the consent of the governed,ŠThat whenever any Form of Government\n",
            "becomes destructive of these ends, it is the Right of the People to alter or to abolish it, and to\n",
            "institute new Government, laying its foundation on such principles and organizing its powers in\n",
            "such form, as to them shall seem most likely to effect their Safety and Happiness. Prudence,\n",
            "\n",
            "indeed, will dictate that Governments long established should not be changed for light and\n",
            "transient causes; and accordingly all experience hath shewn, that mankind are more disposed to\n",
            "suffer, while evils are sufferable, than to right themselves by abolishing the forms to which they\n",
            "\n",
            "are accustomed. But when a long train of abuses and usurpations, pursuing invariably the same\n",
            "Object evinces a design to reduce them under absolute Despotism, it is their right, it is their duty,\n",
            "to throw off such Government, and to provide new Guards for their future security.ŠSuch has\n",
            "been the patient sufferance of these Colonies; and such is now the necessity which constrains\n",
            "\n",
            "them to alter their former Systems of Government. The history of the present King of Great\n",
            "\n",
            "Britain is a history of repeated injuries and usurpations, all having in direct object the\n",
            "establishment of an absolute Tyranny over these States. To prove this, let Facts be submitted to a\n",
            "candid world. He has refused his Assent to Laws, the most wholesome and necessary for the\n",
            "public good.\n",
            "He has forbidden his Governors to pass Laws of immediate and pressing\n",
            "importance, unless suspended in their operation till his Assent should be obtained;\n",
            "and when so suspended, he has utterly neglected to attend to them.\n",
            "\n",
            "He has refused to pass other Laws for the accommodation of large districts of\n",
            "people, unless those people would relinquish the right of Representation in the\n",
            "Legislature, a right inestimable to them and formidable to tyrants only. \n",
            "\n",
            "He has called together legislative bodies at places unusual, uncomfortable, and distant\n",
            "from the depository of their public Records, for the sole purpose of fatiguing them into\n",
            "compliance with his measures.\n",
            "\n",
            "\n",
            "\n",
            "\n",
            "\n",
            "\n",
            "\n",
            "\n",
            "\n",
            "\n",
            "\n",
            "He has dissolved Representative Houses repeatedly, for opposing with manlyfirmness his invasions on the rights of the people.He has refused for a long time, after such dissolutions, to cause others to beelected; whereby the Legislative powers, incapable of Annihilation, have returnedto the People at large for their exercise; the State remaining in the mean timeexposed to all the dangers of invasion from without, and convulsions within.He has endeavoured to prevent the population of these States; for that purposeobstructing the Laws for Naturalization of Foreigners; refusing to pass others toencourage their migrations hither, and raising the conditions of newAppropriations of Lands.He has obstructed the Administration of Justice, by refusing his Assent to Lawsfor establishing Judiciary powers.He has made Judges dependent on his Will alone, for the tenure of their offices,and the amount and payment of their salaries.He has erected a multitude of New Offices, and sent hither swarms of Officers toharrass our people, and eat out their substance.He has kept among us, in times of peace, Standing Armies without the Consent ofour legislatures.He has affected to render the Military independent of and superior to the Civil power.He has combined with others to subject us to a jurisdiction foreign to ourconstitution, and unacknowledged by our laws; giving his Assent to their Acts ofpretended Legislation:For Quartering large bodies of armed troops among us:For protecting them, by a mock Trial, from punishment for any Murders whichthey should commit on the Inhabitants of these States:For cutting off our Trade with all parts of the world:For imposing Taxes on us without our Consent: For depriving us in many cases,of the benefits of Trial by Jury:For transporting us beyond Seas to be tried for pretended offencesFor abolishing the free System of English Laws in a neighbouring Province,establishing therein an Arbitrary government, and enlarging its Boundaries so as\n",
            "\n",
            "\n",
            "\n",
            "\n",
            "\n",
            "\n",
            "\n",
            "\n",
            "\n",
            "\n",
            "to render it at once an example and fit instrument for introducing the sameabsolute rule into these Colonies:For taking away our Charters, abolishing our most valuable Laws, and alteringfundamentally the Forms of our Governments:For suspending our own Legislatures, and declaring themselves invested withpower to legislate for us in all cases whatsoever.He has abdicated Government here, by declaring us out of his Protection andwaging War against us.He has plundered our seas, ravaged our Coasts, burnt our towns, and destroyed thelives of our people.He is at this time transporting large Armies of foreign Mercenaries to compleatthe works of death, desolation and tyranny, already begun with circumstances ofCruelty & perfidy scarcely paralleled in the most barbarous ages, and totallyunworthy of the Head of a civilized nation.He has constrained our fellow Citizens taken Captive on the high Seas to bearArms against their Country, to become the executioners of their friends and\n",
            "Brethren, or to fall themselves by their Hands.He has excited domestic insurrections amongst us, and has endeavoured to bringon the inhabitants of our frontiers, the merciless Indian Savages, whose known\n",
            "rule of warfare, is an undistinguished destruction of all ages, sexes and conditions. In every stage of these Oppressions We have Petitioned for Redress in the most humble terms:Our repeated Petitions have been answered only by repeated injury. A Prince whose character isthus marked by every act which may define a Tyrant, is unfit to be the ruler of a free people. Nor have We been wanting in attentions to our Brittish brethren. We have warned them fromtime to time of attempts by their legislature to extend an unwarrantable jurisdiction over us. Wehave reminded them of the circumstances of our emigration and settlement here. We haveappealed to their native justice and magnanimity, and we have conjured them by the ties of ourcommon kindred to disavow these usurpations, which, would inevitably interrupt ourconnections and correspondence. They too have been deaf to the voice of justice and ofconsanguinity. We must, therefore, acquiesce in the necessity, which denounces our Separation,and hold them, as we hold the rest of mankind, Enemies in War, in Peace Friends. We, therefore, the Representatives of the united States of America, in General Congress,Assembled, appealing to the Supreme Judge of the world for the rectitude of our intentions, do,in the Name, and by Authority of the good People of these Colonies, solemnly publish anddeclare, That these United Colonies are, and of Right ought to be Free and Independent States;that they are Absolved from all Allegiance to the British Crown, and that all political connection\n",
            "\n",
            "\n",
            "\n",
            "\n",
            "\n",
            "\n",
            "\n",
            "\n",
            "\n",
            "\n",
            "between them and the State of Great Britain, is and ought to be totally dissolved; and that as Free\n",
            "\n",
            "and Independent States, they have full Power to levy War, conclude Peace, contract Alliances,\n",
            "establish Commerce, and to do all other Acts and Things which Independent States may of right\n",
            "\n",
            "do. And for the support of this Declaration, with a firm reliance on the protection of divine\n",
            "Providence, we mutually pledge to each other our Lives, our Fortunes and our sacred Honor.\n",
            "\n",
            "[The 56 signatures on the Declaration were arranged in six columns:\n",
            "] [Column 1]\n",
            " Georgia:   Button Gwinnett\n",
            "   Lyman \n",
            "Hall   George Walton \n",
            "[Column 2]\n",
            " North Carolina:   William Hooper\n",
            "   Joseph Hewes\n",
            "   John Penn\n",
            " South Carolina:   Edward Ru\n",
            "tledge   Thomas Heyward, Jr.\n",
            "  Thomas Lynch, Jr.\n",
            "  Arthur Middleton \n",
            "[Column 3]\n",
            " Massachusetts:   John Hancock\n",
            "\n",
            " Maryland:   Samuel Chase\n",
            "\n",
            "   William Paca\n",
            "\n",
            "   Thomas Stone\n",
            "\n",
            "   Charles Carroll of Carrollton\n",
            "\n",
            " Virginia:   George Wythe\n",
            "\n",
            "   Richard Henry Lee\n",
            "\n",
            "   Thomas Jefferson\n",
            "\n",
            "   Benjamin Harrison\n",
            "\n",
            "   Thomas Nelson, Jr.\n",
            "\n",
            "   Francis Lightfoot Lee\n",
            "\n",
            "   Carter Braxton \n",
            "\n",
            "[Column 4]\n",
            " Pennsylvania:  Robert Morris\n",
            "\n",
            "   Benjamin Rush\n",
            "   Benjamin Fran\n",
            "klin   John Morton\n",
            "\n",
            "\n",
            "\n",
            "\n",
            "\n",
            "\n",
            "\n",
            "\n",
            "\n",
            "\n",
            "\n",
            "   George Clymer\n",
            "   James Smith\n",
            "   George Taylor\n",
            "   James Wilson\n",
            "   George Ross\n",
            " Delaware:   Caesar Rodney\n",
            "   George Read\n",
            "   Thomas McKean \n",
            "[Column 5]\n",
            " New York:   Wi\n",
            "lliam Floyd   Philip Livingston\n",
            "   Francis L\n",
            "ewis   Lewis Morris\n",
            " New Jersey:   Richard Stockton\n",
            "   John Witherspoon\n",
            "   Francis Hopkinson\n",
            "   John Hart\n",
            "   Abraham Clark \n",
            "[Column 6]\n",
            " New Hampshire:   Josiah Bartlett\n",
            "   William Whipple\n",
            " Massachusetts:   Samuel Adams\n",
            "   John Adams\n",
            "   Robert Treat Paine\n",
            "   Elbridge Gerry\n",
            " Rhode Island:   Stephen Hopkins\n",
            "   William Ellery\n",
            " Connecticut:   Roger Sherman\n",
            "   Samuel Huntington\n",
            "   William Williams\n",
            "   Oliver Wolcott\n",
            " New Hampshire: Matthew Thornton\n",
            " \n",
            "\n",
            "\n",
            "\n",
            "\n",
            "\n",
            "\n",
            "\n",
            "\n",
            "\n",
            "\n"
          ],
          "name": "stdout"
        }
      ]
    },
    {
      "cell_type": "code",
      "metadata": {
        "id": "u0i0FDHQ92iA"
      },
      "source": [
        ""
      ],
      "execution_count": null,
      "outputs": []
    }
  ]
}